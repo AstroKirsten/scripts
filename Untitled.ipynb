{
 "cells": [
  {
   "cell_type": "code",
   "execution_count": 4,
   "id": "e6c008fb-cb26-4676-a2d5-8c9a4e131c22",
   "metadata": {},
   "outputs": [],
   "source": [
    "import numpy as np\n",
    "import pandas as pd\n",
    "import matplotlib.pyplot as plt\n",
    "\n",
    "from astropy.io import fits\n",
    "from astropy.table import Table"
   ]
  },
  {
   "cell_type": "code",
   "execution_count": 5,
   "id": "05327a49-843a-49fe-9623-ff041601049d",
   "metadata": {},
   "outputs": [],
   "source": [
    "labels_table = Table.read('/Users/z5059656/OneDrive - UNSW/Projects/Xshooter/Cannon/X-Shooter stars_ stellar parameters - KB Sheet.csv',)\n",
    "df_labels = labels_table.to_pandas()\n",
    "stars = df_labels['EPIC-ID'].values\n",
    "\n",
    "# normalised files list\n",
    "# norm_files = pd.read_csv('./normalised_files.csv')\n",
    "norm_files = pd.read_csv('/Users/z5059656/OneDrive - UNSW/Projects/Xshooter/normalised_files.csv')"
   ]
  },
  {
   "cell_type": "code",
   "execution_count": null,
   "id": "f96b58fd-1b4f-445b-b1a8-0a1d77253aa7",
   "metadata": {},
   "outputs": [],
   "source": [
    "with fits.open('/Users/z5059656/OneDrive - UNSW/Projects/Xshooter/SINGLE_NORM/')"
   ]
  }
 ],
 "metadata": {
  "kernelspec": {
   "display_name": "Python 3",
   "language": "python",
   "name": "python3"
  },
  "language_info": {
   "codemirror_mode": {
    "name": "ipython",
    "version": 3
   },
   "file_extension": ".py",
   "mimetype": "text/x-python",
   "name": "python",
   "nbconvert_exporter": "python",
   "pygments_lexer": "ipython3",
   "version": "3.8.8"
  }
 },
 "nbformat": 4,
 "nbformat_minor": 5
}
