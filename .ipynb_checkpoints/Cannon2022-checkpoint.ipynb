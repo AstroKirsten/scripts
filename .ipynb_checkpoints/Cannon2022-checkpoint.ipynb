{
 "cells": [
  {
   "cell_type": "code",
   "execution_count": 1,
   "id": "b4d7cbbc-a80a-4d62-af19-5bb44bf92210",
   "metadata": {},
   "outputs": [],
   "source": [
    "import numpy as np\n",
    "import pandas as pd\n",
    "\n",
    "from astropy.io import fits\n",
    "\n",
    "import matplotlib.pyplot as plt\n",
    "\n",
    "# import thecannon as tc\n",
    "# from thecannon import continuum"
   ]
  },
  {
   "cell_type": "code",
   "execution_count": 2,
   "id": "f1f5b80e-b3d6-49dc-80d0-71bcc0938477",
   "metadata": {},
   "outputs": [],
   "source": [
    "ROOT = 'C:/Users/Kirsten Banks/'\n",
    "RAW_DATA = ROOT+'OneDrive - UNSW/Projects/Xshooter/USEFUL/'\n",
    "NORM_PATH = ROOT+'OneDrive - UNSW/Projects/Xshooter/NORMALISED/'\n",
    "SINGLE_PATH = ROOT+'OneDrive - UNSW/Projects/Xshooter/SINGLE_NORM/'\n",
    "files = pd.read_csv(ROOT+'OneDrive - UNSW/Projects/Xshooter/fileNames.csv')\n",
    "norm_files = pd.read_csv(ROOT+'OneDrive - UNSW/Projects/Xshooter/normalised_files.csv')"
   ]
  },
  {
   "cell_type": "code",
   "execution_count": null,
   "id": "db16be2b-a9d0-4037-998b-c7f7a52af4bb",
   "metadata": {},
   "outputs": [],
   "source": [
    "def extract_data(file,path=RAW_DATA,scale=True):\n",
    "    \"\"\"Pull spectral information out of raw fits file.\n",
    "    Returns: wavelength, flux, error\"\"\"\n",
    "    with fits.open(path+file) as data:\n",
    "        w0 = data[0].header['CRVAL1']\n",
    "        dw = data[0].header['CDELT1']\n",
    "        f = data[0].data\n",
    "        e = data[1].data\n",
    "        \n",
    "    w = [np.round(w0+dw*i,2) for i in range(len(f))]\n",
    "    \n",
    "    if scale:\n",
    "        f = (f*1e13)\n",
    "        e = (e*1e13)\n",
    "    \n",
    "    return np.array(w), np.array(f), np.array(e)\n",
    "\n",
    "def filter_NIR(x):\n",
    "    if (x<=1020):\n",
    "        return False\n",
    "    elif (x>1100) & (x<1175):\n",
    "        return False\n",
    "    elif (x>1330) & (x<1460):\n",
    "        return False\n",
    "    elif (x>1800) & (x<1950):\n",
    "        return False\n",
    "    elif (x>2400):\n",
    "        return False\n",
    "    else:\n",
    "        return True\n",
    "    \n",
    "def filter_UVB(x):\n",
    "    if (x<350):\n",
    "        return False\n",
    "    elif (x>540):\n",
    "        return False\n",
    "    else:\n",
    "        return True\n",
    "\n",
    "def filter_VIS(x):\n",
    "    if (x<580):\n",
    "        return False\n",
    "    else:\n",
    "        return True\n",
    "    \n",
    "def normalise(file,N=50,save=True,out=True):\n",
    "    # load in data\n",
    "    w,f,e = extract_data(file)\n",
    "    \n",
    "    # note down star id, arm and set mask (based on arm)\n",
    "    star_id = file.split(\"_\")[0]\n",
    "    \n",
    "    if \"NIR\" in file:\n",
    "        arm = \"NIR\"\n",
    "        mask = list(map(filter_NIR, w))\n",
    "    elif \"VIS\" in file:\n",
    "        arm = \"VIS\"\n",
    "        mask = list(map(filter_VIS, w))\n",
    "    elif \"UVB\" in file:\n",
    "        arm = \"UVB\"\n",
    "        mask = list(map(filter_UVB, w))\n",
    "    \n",
    "    # do split and determine array for interpolation\n",
    "    w_split = np.array_split(w[mask],N)\n",
    "    f_split = np.array_split(f[mask],N)\n",
    "\n",
    "    y = [np.quantile(i,0.95) for i in f_split]\n",
    "    y.insert(0,f[mask][0])\n",
    "    y.append(f[mask][-1])\n",
    "\n",
    "    x = [np.mean(i) for i in w_split]\n",
    "    x.insert(0,w[mask][0])\n",
    "    x.append(w[mask][-1])\n",
    "    \n",
    "    # do interpolation\n",
    "    fit = interp1d(x,y)\n",
    "    \n",
    "    # normalised flux and errors\n",
    "    norm_f = f[mask]/fit(w[mask])\n",
    "    norm_e = e[mask]/fit(w[mask])\n",
    "    \n",
    "    if save:\n",
    "        hdu0 = fits.PrimaryHDU(w[mask])\n",
    "        hdu1 = fits.ImageHDU(norm_f)\n",
    "        hdu2 = fits.ImageHDU(norm_e)\n",
    "\n",
    "        hdul = fits.HDUList([hdu0,hdu1,hdu2])\n",
    "\n",
    "        try:\n",
    "            hdul.writeto(NORM_PATH+star_id+'_'+arm+'_norm.fits')\n",
    "        except:\n",
    "            print(\"File already exists...\")\n",
    "    \n",
    "    if out:\n",
    "        return w[mask],norm_f,norm_e"
   ]
  },
  {
   "cell_type": "code",
   "execution_count": null,
   "id": "b9347f2a-83cb-4d6d-8a60-080d61fbc7f2",
   "metadata": {},
   "outputs": [],
   "source": [
    "\"\"\"DON'T NEED TO RUN AGAIN\"\"\"\n",
    "# for i in files['fileName']:\n",
    "#     normalise(i,out=False)"
   ]
  },
  {
   "cell_type": "code",
   "execution_count": null,
   "id": "1476273e-1bfe-4ce1-ac5f-ff3bdbbcb085",
   "metadata": {},
   "outputs": [],
   "source": [
    "files.head(3)"
   ]
  },
  {
   "cell_type": "code",
   "execution_count": null,
   "id": "7174db6b-4e37-4a51-a143-5578d2d49460",
   "metadata": {},
   "outputs": [],
   "source": [
    "w_UVB,f_UVB,e_UVB = extract_data(files['fileName'][1])\n",
    "w_VIS,f_VIS,e_VIS = extract_data(files['fileName'][2])\n",
    "w_NIR,f_NIR,e_NIR = extract_data(files['fileName'][0])\n",
    "\n",
    "UVB_MASK = list(map(filter_UVB, w_UVB))\n",
    "VIS_MASK = list(map(filter_VIS, w_VIS))\n",
    "NIR_MASK = list(map(filter_NIR, w_NIR))\n",
    "\n",
    "star_id = files['fileName'][0].split(\"_\")[0]"
   ]
  },
  {
   "cell_type": "code",
   "execution_count": null,
   "id": "68712055-f269-4892-938e-e59ec37b8c98",
   "metadata": {},
   "outputs": [],
   "source": [
    "# Determine local maxima in sections of masked spectra\n",
    "N = 50\n",
    "w = w_NIR\n",
    "f = f_NIR\n",
    "m = NIR_MASK\n",
    "arm = \"NIR\"\n",
    "\n",
    "w_split = np.array_split(w[m],N)\n",
    "f_split = np.array_split(f[m],N)\n",
    "\n",
    "y = [np.quantile(i,0.95) for i in f_split]\n",
    "y.insert(0,f[m][0])\n",
    "y.append(f[m][-1])\n",
    "\n",
    "# x = [w_split[i][np.where(f_split[i]==y[i])[0][0]] for i in range(N)]\n",
    "x = [np.mean(i) for i in w_split]\n",
    "x.insert(0,w[m][0])\n",
    "x.append(w[m][-1])"
   ]
  },
  {
   "cell_type": "code",
   "execution_count": null,
   "id": "d2048f53-43e1-43a7-b94d-4cdf968032ae",
   "metadata": {},
   "outputs": [],
   "source": [
    "from scipy.interpolate import interp1d\n",
    "fit = interp1d(x,y)"
   ]
  },
  {
   "cell_type": "code",
   "execution_count": null,
   "id": "fb404a67-42c1-43b2-bfe1-995e5828f544",
   "metadata": {},
   "outputs": [],
   "source": [
    "# UVB closer look\n",
    "plt.plot(w[m],f[m])\n",
    "plt.scatter(x,y,c='k',zorder=3)\n",
    "plt.plot(w[m],fit(w[m]))\n",
    "\n",
    "\n",
    "# plt.xlim(1450,1810)\n",
    "plt.ylim(0,1)"
   ]
  },
  {
   "cell_type": "code",
   "execution_count": null,
   "id": "da7ecfde-2efe-450e-b0de-9d65d42568da",
   "metadata": {},
   "outputs": [],
   "source": [
    "plt.plot(w[m],f[m]/fit(w[m]))\n",
    "plt.ylim(0,1.2);"
   ]
  },
  {
   "cell_type": "code",
   "execution_count": null,
   "id": "50d70ad3-e01d-4da6-b7d0-31b7337f8578",
   "metadata": {},
   "outputs": [],
   "source": [
    "fig, ax = plt.subplots(1,2,figsize=(15,5),sharey=True)\n",
    "\n",
    "ax[0].plot(w[m],f[m],label='flux')\n",
    "ax[0].scatter(x,y,c='k',s=20,zorder=4,label='quantiles')\n",
    "ax[0].plot(w[m],fit(w[m]),zorder=3,label='fit')\n",
    "ax[0].legend(fontsize=12)\n",
    "ax[0].set_ylim(0,1.2)\n",
    "\n",
    "ax[1].plot(w[m],f[m]/fit(w[m]),label='normalised')\n",
    "ax[1].legend(fontsize=12)\n",
    "ax[1].set_ylim(0,1.2)\n",
    "\n",
    "for i in ax:\n",
    "    i.set_xlabel('Wavelength [nm]',fontsize=12)\n",
    "\n",
    "fig.suptitle(f\"{star_id}: {arm}\",y=0.95,fontsize=14)\n",
    "fig.subplots_adjust(wspace=0)\n",
    "# fig.savefig(f\"./norm_ex_{arm}.jpg\",bbox_inches='tight',pad_inches=0.1)"
   ]
  },
  {
   "cell_type": "markdown",
   "id": "071c37e2-4883-4138-a6a0-6155db7cb7c1",
   "metadata": {},
   "source": [
    "### Merge arms together into single spectrum"
   ]
  },
  {
   "cell_type": "code",
   "execution_count": null,
   "id": "9ca8cb26-01b8-4273-8a9e-825149117887",
   "metadata": {},
   "outputs": [],
   "source": [
    "stars = list(set([i.split(\"_\")[0] for i in norm_files['fileName']]))\n",
    "norm_files['ID'] = [i.split(\"_\")[0] for i in norm_files['fileName']]\n",
    "\n",
    "# for j in stars:\n",
    "#     s = j\n",
    "#     files = norm_files[norm_files['ID']==s]\n",
    "\n",
    "#     for i in files['fileName']:\n",
    "#         if \"NIR\" in i:\n",
    "#             with fits.open(NORM_PATH+i) as data:\n",
    "#                 w_NIR = data[0].data\n",
    "#                 f_NIR = data[1].data\n",
    "#                 e_NIR = data[2].data\n",
    "#         elif \"VIS\" in i:\n",
    "#             with fits.open(NORM_PATH+i) as data:\n",
    "#                 w_VIS = data[0].data\n",
    "#                 f_VIS = data[1].data\n",
    "#                 e_VIS = data[2].data\n",
    "#         elif \"UVB\" in i:\n",
    "#             with fits.open(NORM_PATH+i) as data:\n",
    "#                 w_UVB = data[0].data\n",
    "#                 f_UVB = data[1].data\n",
    "#                 e_UVB = data[2].data\n",
    "\n",
    "#     w = np.concatenate([w_UVB,w_VIS,w_NIR])\n",
    "#     f = np.concatenate([f_UVB,f_VIS,f_NIR])\n",
    "#     e = np.concatenate([e_UVB,e_VIS,e_NIR])\n",
    "\n",
    "#     hdu0 = fits.PrimaryHDU(w)\n",
    "#     hdu1 = fits.ImageHDU(f)\n",
    "#     hdu2 = fits.ImageHDU(e)\n",
    "\n",
    "#     hdul = fits.HDUList([hdu0,hdu1,hdu2])\n",
    "\n",
    "#     try:\n",
    "#         hdul.writeto(SINGLE_PATH+s+'.fits')\n",
    "#     except:\n",
    "#         print(\"File already exists...\")"
   ]
  },
  {
   "cell_type": "code",
   "execution_count": null,
   "id": "a6fb98f8-a4f4-4c8e-ba33-e92f8c9eb1dd",
   "metadata": {},
   "outputs": [],
   "source": [
    "# plt.plot(w_UVB,f_UVB)\n",
    "# plt.plot(w_VIS,f_VIS)\n",
    "# plt.plot(w_NIR,f_NIR)\n",
    "\n",
    "plt.plot(w,f)"
   ]
  },
  {
   "cell_type": "markdown",
   "id": "07db283b-14b8-4bb2-99a0-20a33fe590b6",
   "metadata": {},
   "source": [
    "# The Cannon stuff\n",
    "#### Version 0.5.6"
   ]
  },
  {
   "cell_type": "code",
   "execution_count": null,
   "id": "bae33118-fd57-4fd2-a762-43a510d6b1be",
   "metadata": {},
   "outputs": [],
   "source": [
    "# import thecannon as tc\n",
    "from thecannon import dataset\n",
    "\n",
    "from astropy.table import Table"
   ]
  },
  {
   "cell_type": "code",
   "execution_count": null,
   "id": "f7bf2db6-83da-4ce5-a7a2-1b12ca95a574",
   "metadata": {},
   "outputs": [],
   "source": [
    "# load labels\n",
    "# labels_table = Table.read('./Cannon/X-Shooter stars_ stellar parameters - KB Sheet.csv',)\n",
    "labels_table = Table.read('/Users/z5059656/OneDrive - UNSW/Projects/Xshooter/Cannon/X-Shooter stars_ stellar parameters - KB Sheet.csv',)\n",
    "df_labels = labels_table.to_pandas()\n",
    "stars = df_labels['EPIC-ID'].values\n",
    "\n",
    "# normalised files list\n",
    "# norm_files = pd.read_csv('./normalised_files.csv')\n",
    "norm_files = pd.read_csv('/Users/z5059656/OneDrive - UNSW/Projects/Xshooter/normalised_files.csv')"
   ]
  },
  {
   "cell_type": "markdown",
   "id": "50224283-c3ce-4257-bbce-000e4875026f",
   "metadata": {},
   "source": [
    "#### Looking at label space"
   ]
  },
  {
   "cell_type": "code",
   "execution_count": null,
   "id": "9a0af893-a791-4db3-ae5c-64708f01a829",
   "metadata": {},
   "outputs": [],
   "source": [
    "# pd.plotting.scatter_matrix(df_labels[['Teff','logg_seis','Fe/H','dnu','nu_max']],alpha=1,figsize=(15,15)); \n",
    "df_labels.sort_values(by='Kmag')"
   ]
  },
  {
   "cell_type": "markdown",
   "id": "aac68169-93cc-4d93-92c9-c441c505a60b",
   "metadata": {},
   "source": [
    "### TheCannon 0.5.6"
   ]
  },
  {
   "cell_type": "code",
   "execution_count": null,
   "id": "b5c409d5-e343-4d76-a241-ac8749341c5a",
   "metadata": {},
   "outputs": [],
   "source": [
    "from thecannon import dataset"
   ]
  },
  {
   "cell_type": "code",
   "execution_count": null,
   "id": "beba3cdf-27c8-4268-bd92-9fe689d47976",
   "metadata": {},
   "outputs": [],
   "source": [
    "# WHAT ARM????\n",
    "arm = \"UVB\"\n",
    "\n",
    "# train_labels = labels_table['Teff','logg_seis','Fe/H','dnu','nu_max'] # astropy table\n",
    "train_labels = df_labels[['Teff','logg_seis','Fe/H','dnu','nu_max']].values\n",
    "\n",
    "# load data\n",
    "train_flux = []\n",
    "train_ivar = []\n",
    "train_ID = []\n",
    "\n",
    "for i in norm_files['fileName']:\n",
    "    if arm in i:\n",
    "        train_ID.append(i.split(\"_\")[0])\n",
    "        with fits.open(NORM_PATH+i) as data:\n",
    "            wav = data[0].data.astype(float)\n",
    "            train_flux.append(data[1].data.astype(float))\n",
    "            train_ivar.append(1/(data[2].data.astype(float)**2))\n",
    "            \n",
    "train_flux = np.array(train_flux).astype(float)\n",
    "train_ivar = np.array(train_ivar).astype(float)\n",
    "train_ID = np.array(train_ID)\n",
    "\n",
    "# train_flux = train_flux\n",
    "# train_ivar = train_ivar\n",
    "# train_ID = train_ID"
   ]
  },
  {
   "cell_type": "code",
   "execution_count": null,
   "id": "4c317da0-7635-4149-a380-c05f136ab390",
   "metadata": {},
   "outputs": [],
   "source": [
    "# SINGLE SPECTRA\n",
    "\n",
    "# train_labels = labels_table['Teff','logg_seis','Fe/H','dnu','nu_max'] # astropy table\n",
    "train_labels = df_labels[['Teff','logg_seis','Fe/H','dnu','nu_max']].values\n",
    "\n",
    "# load data\n",
    "train_flux = []\n",
    "train_ivar = []\n",
    "train_ID = []\n",
    "\n",
    "for i in stars:\n",
    "    train_ID.append(i)\n",
    "    with fits.open(SINGLE_PATH+i+'.fits') as data:\n",
    "        wav = data[0].data.astype(float)\n",
    "        train_flux.append(data[1].data.astype(float))\n",
    "#         train_ivar.append(1/(data[2].data.astype(float))**2)\n",
    "#         train_ivar.append(data[2].data.astype(float))\n",
    "        train_ivar.append(np.ones(len(data[1].data.astype(float)))*1e4)\n",
    "            \n",
    "train_flux = np.array(train_flux).astype(float)\n",
    "# train_ivar = np.array([1/i**(2) for i in train_ivar])\n",
    "train_ivar = np.array(train_ivar).astype(float)\n",
    "train_ID = np.array(train_ID)\n",
    "\n",
    "# train_flux = train_flux\n",
    "# train_ivar = train_ivar\n",
    "# train_ID = train_ID"
   ]
  },
  {
   "cell_type": "code",
   "execution_count": null,
   "id": "f4ee3ef7-61cc-43e8-907c-5d785424d456",
   "metadata": {},
   "outputs": [],
   "source": [
    "ds = dataset.Dataset(wav,train_ID, train_flux, train_ivar, train_labels, train_ID, train_flux, train_ivar)"
   ]
  },
  {
   "cell_type": "code",
   "execution_count": null,
   "id": "3e77fcc3-dd90-46c7-9335-ce33d8909e7e",
   "metadata": {},
   "outputs": [],
   "source": [
    "plt.hist(1/(ds.test_ivar[0])**2)"
   ]
  },
  {
   "cell_type": "code",
   "execution_count": null,
   "id": "64c4b938-e343-40fa-a3f3-957cfb6ddac8",
   "metadata": {},
   "outputs": [],
   "source": [
    "plt.plot(ds.wl,ds.test_flux[0])\n",
    "plt.plot(ds.wl,ds.test_ivar[0])\n",
    "plt.xlim(1450,1600)\n",
    "plt.ylim(0,1.2)"
   ]
  },
  {
   "cell_type": "code",
   "execution_count": null,
   "id": "2e3ea852-d61d-47c6-ae17-ad0b299a5518",
   "metadata": {},
   "outputs": [],
   "source": [
    "# ds.set_label_names([\"Teff\",\"logg\",\"[Fe/H]\",\"\\delta\\nu\",\"\\nu_{max}\"])\n",
    "ds.set_label_names([\"Teff\",\"logg\",\"[Fe/H]\",\"\\delta\\\\nu\",\"\\\\nu_{max}\"])"
   ]
  },
  {
   "cell_type": "code",
   "execution_count": null,
   "id": "c3670ce5-5bd8-43d3-9f3c-f2139c76914d",
   "metadata": {},
   "outputs": [],
   "source": [
    "# for i in train_ivar:\n",
    "#     try:\n",
    "#         1/i**2\n",
    "#     except:\n",
    "#         print(\"ERROR\")\n",
    "\n",
    "ivar = [1/i**2 for i in train_ivar]"
   ]
  },
  {
   "cell_type": "code",
   "execution_count": null,
   "id": "3308787a-aedc-4740-8ece-2198ae0b5637",
   "metadata": {},
   "outputs": [],
   "source": []
  },
  {
   "cell_type": "code",
   "execution_count": null,
   "id": "7685320e-2b35-4b28-9710-75f1f2b69046",
   "metadata": {},
   "outputs": [],
   "source": [
    "fig = ds.diagnostics_SNR()\n",
    "# fig.savefig(f\"./{arm}_diagnostics_SNR.jpg\")\n",
    "fig.savefig(f\"./diagnostics_SNR.jpg\")"
   ]
  },
  {
   "cell_type": "code",
   "execution_count": null,
   "id": "1349a93a-5da3-45a3-a923-43e15a3ed151",
   "metadata": {},
   "outputs": [],
   "source": [
    "fig = ds.diagnostics_ref_labels()\n",
    "# fig.savefig(f\"./{arm}_diagnostics_ref_labels.jpg\")"
   ]
  },
  {
   "cell_type": "code",
   "execution_count": null,
   "id": "09810aca-23bf-44d8-979c-99a83d90697a",
   "metadata": {},
   "outputs": [],
   "source": [
    "pseudo_tr_flux, pseudo_tr_ivar = ds.continuum_normalize_training_q(q=0.90, delta_lambda=50)"
   ]
  },
  {
   "cell_type": "code",
   "execution_count": null,
   "id": "56fbd765-b969-4de9-8b64-7ee93791edee",
   "metadata": {},
   "outputs": [],
   "source": [
    "contmask = ds.make_contmask(pseudo_tr_flux,pseudo_tr_ivar, frac=0.07)"
   ]
  },
  {
   "cell_type": "code",
   "execution_count": null,
   "id": "ea8ee7e4-e023-4085-8c13-c01ca835f591",
   "metadata": {},
   "outputs": [],
   "source": [
    "plt.plot(ds.wl,ds.tr_flux[0],label='spectrum')\n",
    "plt.scatter(ds.wl[contmask],ds.tr_flux[0][contmask],c='k',zorder=3,s=5,label='continuum pixels')\n",
    "plt.ylim(0,1.2)\n",
    "# plt.savefig(f\"./{arm}_spectrum_continuum_pixels.jpg\")\n",
    "plt.savefig(f\"./spectrum_continuum_pixels.jpg\")"
   ]
  },
  {
   "cell_type": "code",
   "execution_count": null,
   "id": "7b51baba-9c03-469a-a27e-c9914c24c324",
   "metadata": {},
   "outputs": [],
   "source": [
    "ds.set_continuum(contmask)"
   ]
  },
  {
   "cell_type": "code",
   "execution_count": null,
   "id": "9b466cad-af78-4ee7-88a8-f991074cd31c",
   "metadata": {},
   "outputs": [],
   "source": [
    "cont = ds.fit_continuum(3, \"sinusoid\")"
   ]
  },
  {
   "cell_type": "code",
   "execution_count": null,
   "id": "742cf44a-0891-4a6d-818d-a498f7b075f0",
   "metadata": {},
   "outputs": [],
   "source": [
    "norm_tr_flux, norm_tr_ivar, norm_test_flux, norm_test_ivar = ds.continuum_normalize(cont)"
   ]
  },
  {
   "cell_type": "code",
   "execution_count": null,
   "id": "6927c825-229b-4075-b80a-f4809696e30f",
   "metadata": {},
   "outputs": [],
   "source": [
    "plt.plot(ds.wl, norm_tr_flux[16,:])"
   ]
  },
  {
   "cell_type": "code",
   "execution_count": null,
   "id": "3acff6da-b0ca-4e27-940d-46763529b1da",
   "metadata": {},
   "outputs": [],
   "source": [
    "ds.tr_flux = norm_tr_flux\n",
    "ds.tr_ivar = norm_tr_ivar\n",
    "ds.test_flux = norm_test_flux\n",
    "ds.test_ivar = norm_test_ivar"
   ]
  },
  {
   "cell_type": "code",
   "execution_count": null,
   "id": "53e78bee-b919-4bf9-9385-c02ea79382d5",
   "metadata": {},
   "outputs": [],
   "source": [
    "p = md.coeffs"
   ]
  },
  {
   "cell_type": "code",
   "execution_count": null,
   "id": "91087553-8a75-4abd-b1a2-fa6f0306587e",
   "metadata": {},
   "outputs": [],
   "source": [
    "plt.figure(figsize=(15,10))\n",
    "plt.plot(ds.wl,p[:,1])\n",
    "plt.plot(ds.wl,p[:,0])\n",
    "# plt.ylim(-0.002,0.002)"
   ]
  },
  {
   "cell_type": "code",
   "execution_count": null,
   "id": "b20b070a-0398-4111-a421-27a031bdf59c",
   "metadata": {},
   "outputs": [],
   "source": [
    "# ACTUALLY RUNNING THE CANNON NOW\n",
    "from thecannon import model\n",
    "md = model.CannonModel(2)\n",
    "md.fit(ds)"
   ]
  },
  {
   "cell_type": "code",
   "execution_count": null,
   "id": "d34a043f-95c0-4a9d-8306-1eb203aca46e",
   "metadata": {},
   "outputs": [],
   "source": [
    "ds.get_plotting_labels()"
   ]
  },
  {
   "cell_type": "code",
   "execution_count": null,
   "id": "f51a5960-368f-4ac7-9cb0-ae6d29829a8a",
   "metadata": {},
   "outputs": [],
   "source": [
    "# md.diagnostics_contpix(ds,fig=f\"{arm}_basline_spec_with_cont_pix\")\n",
    "md.diagnostics_contpix(ds)\n",
    "md.diagnostics_leading_coeffs(ds)\n",
    "# md.diagnostics_plot_chisq(ds,figname=f\"{arm}_modelfit_chisqs.png\")\n",
    "md.diagnostics_plot_chisq(ds)"
   ]
  },
  {
   "cell_type": "code",
   "execution_count": null,
   "id": "0bf9bf61-339b-4be9-b7d7-d5cf19eac479",
   "metadata": {},
   "outputs": [],
   "source": [
    "label_errs = md.infer_labels(ds)"
   ]
  },
  {
   "cell_type": "code",
   "execution_count": null,
   "id": "8a37b8bb-5795-47a5-9eef-4d8e4ca9cf25",
   "metadata": {},
   "outputs": [],
   "source": [
    "test_labels = ds.test_label_vals"
   ]
  },
  {
   "cell_type": "code",
   "execution_count": null,
   "id": "714de709-d91d-417c-83b5-0debb661938e",
   "metadata": {},
   "outputs": [],
   "source": [
    "ds.diagnostics_test_step_flagstars()\n",
    "ds.diagnostics_survey_labels()"
   ]
  },
  {
   "cell_type": "code",
   "execution_count": null,
   "id": "ca273cdd-55c8-437f-8cc2-9bce82c6caef",
   "metadata": {},
   "outputs": [],
   "source": [
    "# ds.diagnostics_1to1(figname=f\"{arm}_1to1_label\")\n",
    "ds.diagnostics_1to1()"
   ]
  },
  {
   "cell_type": "markdown",
   "id": "9cf4f382-f294-44f6-a217-4ee00c5e393e",
   "metadata": {},
   "source": [
    "## Other TheCannon method"
   ]
  },
  {
   "cell_type": "code",
   "execution_count": null,
   "id": "c5830b12-7575-4bf7-a446-3707d82efce2",
   "metadata": {},
   "outputs": [],
   "source": [
    "# short_labels = labels_table[['Teff','logg_seis','Fe/H','dnu','nu_max']] # definitely in the same order as the flux and ivar arrays\n",
    "train_labels = labels_table['Teff','logg_seis','Fe/H','dnu','nu_max']\n",
    "\n",
    "# [labels_table['Teff'].values,labels_table['logg_seis'].values,labels_table['Fe/H'].values]#,labels_table['dnu'].values,labels_table['nu_max'].values]\n",
    "label_names = (\"Teff\",\"logg_seis\",\"Fe/H\",\"dnu\",\"nu_max\")"
   ]
  },
  {
   "cell_type": "code",
   "execution_count": null,
   "id": "95a7ce59-2e2a-4c40-9d4b-8df9569408bf",
   "metadata": {},
   "outputs": [],
   "source": [
    "# load data\n",
    "train_flux = []\n",
    "train_ivar = []\n",
    "\n",
    "for i in norm_files['fileName']:\n",
    "    if \"VIS\" in i:\n",
    "        with fits.open(NORM_PATH+i) as data:\n",
    "            wav = data[0].data\n",
    "            train_flux.append(data[1].data)\n",
    "            train_ivar.append(data[2].data)\n",
    "            \n",
    "train_flux = np.array(train_flux)\n",
    "train_ivar = np.array(train_ivar)"
   ]
  },
  {
   "cell_type": "code",
   "execution_count": null,
   "id": "57531c39-5070-4f4d-aa3b-e883de8e3a05",
   "metadata": {},
   "outputs": [],
   "source": [
    "model = tc.CannonModel(train_labels,train_flux,train_ivar,tc.vectorizer.PolynomialVectorizer(label_names,2),dispersion=wav)"
   ]
  },
  {
   "cell_type": "code",
   "execution_count": null,
   "id": "cec53894-ab8f-423b-a5e4-220c78676d07",
   "metadata": {},
   "outputs": [],
   "source": [
    "print(model.vectorizer.human_readable_label_vector)"
   ]
  },
  {
   "cell_type": "code",
   "execution_count": null,
   "id": "acbde5a4-24bd-404c-893b-b544826c3bd5",
   "metadata": {},
   "outputs": [],
   "source": [
    "print(model.regularization)"
   ]
  },
  {
   "cell_type": "code",
   "execution_count": null,
   "id": "764a7310-ac39-4bb4-b3ed-f342bdc9b71d",
   "metadata": {},
   "outputs": [],
   "source": [
    "print(model.censors)"
   ]
  },
  {
   "cell_type": "code",
   "execution_count": null,
   "id": "f2fe62b5-c2b4-4983-8190-156b0dcde42e",
   "metadata": {},
   "outputs": [],
   "source": [
    "theta, s2, metadata = model.train(threads=1)"
   ]
  },
  {
   "cell_type": "code",
   "execution_count": null,
   "id": "01d057c4-06c6-4df5-8b87-8ee037d410f6",
   "metadata": {},
   "outputs": [],
   "source": [
    "fig_scatter = tc.plot.scatter(model)"
   ]
  },
  {
   "cell_type": "code",
   "execution_count": null,
   "id": "1571fcbe-4de9-43b2-ab9e-97b538e9e651",
   "metadata": {},
   "outputs": [],
   "source": [
    "import seaborn as sns"
   ]
  },
  {
   "cell_type": "code",
   "execution_count": null,
   "id": "8cee5c04-fcf5-448a-ae98-8902149ad143",
   "metadata": {},
   "outputs": [],
   "source": [
    "sns.heatmap(data=theta)"
   ]
  },
  {
   "cell_type": "code",
   "execution_count": null,
   "id": "a9e648e2-a101-4092-85fe-92299b44c51a",
   "metadata": {},
   "outputs": [],
   "source": [
    "theta.shape"
   ]
  },
  {
   "cell_type": "code",
   "execution_count": null,
   "id": "2d97cf7b-9d43-4bb6-92d9-54def6d0882b",
   "metadata": {},
   "outputs": [],
   "source": [
    "df_labels = labels_table.to_pandas()"
   ]
  },
  {
   "cell_type": "code",
   "execution_count": null,
   "id": "bbead596-2ec0-4300-94f4-66b988e15a5b",
   "metadata": {},
   "outputs": [],
   "source": [
    "print(\"new_type\")\n",
    "print(f\"RC: {df_labels[df_labels['new_type']=='RC'].shape[0]}, RGB: {df_labels[df_labels['new_type']=='RGB'].shape[0]}\")\n",
    "print(\"\\ntype\")\n",
    "print(f\"RC: {df_labels[df_labels['type']=='RC'].shape[0]}, RGB: {df_labels[df_labels['type']=='RGB'].shape[0]}\")"
   ]
  },
  {
   "cell_type": "markdown",
   "id": "42acd1ef-beac-402b-8978-7daa5aabd3fd",
   "metadata": {},
   "source": [
    "# Sven's Tutorial\n",
    "#### The Cannon 0.2.93"
   ]
  },
  {
   "cell_type": "code",
   "execution_count": 3,
   "id": "7fce7a1b-7275-45c8-ab2f-ad9bcb1acd2f",
   "metadata": {},
   "outputs": [],
   "source": [
    "try:\n",
    "    %matplotlib inline\n",
    "    %config InlineBackend.figure_format='retina'\n",
    "except:\n",
    "    pass\n",
    "\n",
    "from astropy.io import fits\n",
    "import numpy as np\n",
    "from astropy.table import Table, join\n",
    "from scipy.io.idl import readsav\n",
    "# from astropy.io.fits import pyfits\n",
    "import matplotlib.pyplot as plt\n",
    "import pickle\n",
    "import thecannon as tc\n",
    "import pandas as pd"
   ]
  },
  {
   "cell_type": "code",
   "execution_count": 4,
   "id": "8d150c8a-438a-431c-ac5e-f8c2c31cd6d0",
   "metadata": {},
   "outputs": [
    {
     "name": "stdout",
     "output_type": "stream",
     "text": [
      "['EPIC-ID', 'Gaia ID', '2MASS ID', 'RA', 'DEC', 'Kmag', 'Teff', 'logg_seis', 'logg_spec', 'fe_h', 'Fe/H_seis', 'Mass', 'nu_max', 'dnu', 'dnu_prob', 'type', 'new_type', 'type_change']\n"
     ]
    }
   ],
   "source": [
    "# Setting up the labels\n",
    "df_train = pd.read_csv(ROOT+'/OneDrive - UNSW/Projects/Xshooter/Cannon/parameters.csv',nrows=50)\n",
    "stars = df_train['EPIC-ID'].values\n",
    "df_train = df_train.rename(columns={'Fe/H': 'fe_h'})\n",
    "trainingset = Table.from_pandas(df_train)\n",
    "\n",
    "print(trainingset.keys())\n",
    "\n",
    "labels = tuple(['Teff','logg_seis','fe_h'])\n",
    "\n",
    "training_set_labels = Table()\n",
    "for label in labels:\n",
    "    training_set_labels[label] = trainingset[label]"
   ]
  },
  {
   "cell_type": "code",
   "execution_count": 5,
   "id": "94cb77e2-e16b-4a88-93c1-550e0a501643",
   "metadata": {},
   "outputs": [],
   "source": [
    "# Setting up the wavelength\n",
    "with fits.open(SINGLE_PATH+stars[0]+'.fits') as data:\n",
    "    wavelength_array = data[0].data"
   ]
  },
  {
   "cell_type": "code",
   "execution_count": 6,
   "id": "e165f17b-1773-4a3c-aa41-1e8fe6227e94",
   "metadata": {},
   "outputs": [],
   "source": [
    "# Setting up flux and ivar arrays\n",
    "training_set_flux = []\n",
    "training_set_ivar = []\n",
    "\n",
    "for i in stars:\n",
    "    with fits.open(SINGLE_PATH+i+'.fits') as data:\n",
    "        training_set_flux.append(data[1].data)\n",
    "        training_set_ivar.append(data[2].data)"
   ]
  },
  {
   "cell_type": "code",
   "execution_count": 7,
   "id": "5aeb9932-3be6-4e65-ad7f-21447b165754",
   "metadata": {},
   "outputs": [
    {
     "data": {
      "text/plain": [
       "[<matplotlib.lines.Line2D at 0x1d662d03250>]"
      ]
     },
     "execution_count": 7,
     "metadata": {},
     "output_type": "execute_result"
    },
    {
     "data": {
      "image/png": "[encoded data removed]",
      "text/plain": [
       "<Figure size 432x288 with 1 Axes>"
      ]
     },
     "metadata": {
      "image/png": {
       "height": 248,
       "width": 383
      },
      "needs_background": "light"
     },
     "output_type": "display_data"
    }
   ],
   "source": [
    "plt.plot(wavelength_array,training_set_flux[0])"
   ]
  },
  {
   "cell_type": "markdown",
   "id": "5cb3357b-9077-441a-981b-14a0aca81ed9",
   "metadata": {},
   "source": [
    "### Setting up, Training, and Testing The Cannon"
   ]
  },
  {
   "cell_type": "code",
   "execution_count": 8,
   "id": "26a4f1e2-a571-4262-ae72-68980a2965b3",
   "metadata": {},
   "outputs": [],
   "source": [
    "# We can use a linear, quadratic, etc. model. A quadratic one has order 2\n",
    "order = 2\n",
    "\n",
    "model_file = 'xshooter_model_order'+str(order)+'_'+\"_\".join(labels)\n",
    "\n",
    "# Now if we have already trained the Cannon, we can simply read in the existing Model\n",
    "try:\n",
    "    model = tc.CannonModel.read(model_file+'.model')\n",
    "except:\n",
    "    # There is no Cannon model available yet\n",
    "    # Let's set up the Cannon model\n",
    "    model = tc.CannonModel(\n",
    "        training_set_labels, training_set_flux, training_set_ivar,\n",
    "        vectorizer=tc.vectorizer.PolynomialVectorizer(labels, order),dispersion=wavelength_array)"
   ]
  },
  {
   "cell_type": "code",
   "execution_count": 10,
   "id": "0d3483e4-6ec7-4916-8db4-671bc02dd5ee",
   "metadata": {
    "tags": []
   },
   "outputs": [
    {
     "name": "stderr",
     "output_type": "stream",
     "text": [
      "2022-02-14 12:07:48,991 [DEBUG] Couldn't get screen size. Progressbar may look odd.\n",
      "2022-02-14 12:07:48,991 [INFO] Running test step on 50 spectra\n"
     ]
    },
    {
     "name": "stdout",
     "output_type": "stream",
     "text": [
      "The Cannon is already trained\n",
      "Testing The Cannon\n",
      "[==================================================                                                  ] 100% (1s)                             \n"
     ]
    }
   ],
   "source": [
    "# This is where the magic happens! We train the Cannon (if it is not yet trained)!\n",
    "\n",
    "# This will start with several \"red\" messages. \n",
    "# A common warning is \"Optimization warning (l_bfgs_b): b'ABNORMAL_TERMINATION_IN_LNSRCH\"\n",
    "# Don't panic - that just means it will take a different optimisation algorithm than the default one.\n",
    "\n",
    "if not model.is_trained:\n",
    "    print('Training The Cannon')\n",
    "    theta, s2, metadata = model.train(threads=1)\n",
    "    \n",
    "    # Save the result\n",
    "    model.write(model_file+'.model', overwrite=True)\n",
    "else:\n",
    "    print('The Cannon is already trained')\n",
    "    \n",
    "# Now let's run the Cannon on its own training set to estimate labels and uncertainties\n",
    "print('Testing The Cannon')\n",
    "test_labels, cov, metadata = model.test(training_set_flux, training_set_ivar)"
   ]
  },
  {
   "cell_type": "code",
   "execution_count": 11,
   "id": "783e1945-4c99-46a6-b328-34c467683d28",
   "metadata": {},
   "outputs": [
    {
     "data": {
      "image/png": "[encoded data removed]",
      "text/plain": [
       "<Figure size 1080x144 with 4 Axes>"
      ]
     },
     "metadata": {
      "image/png": {
       "height": 135,
       "width": 1065
      },
      "needs_background": "light"
     },
     "output_type": "display_data"
    },
    {
     "data": {
      "image/png": "[encoded data removed]",
      "text/plain": [
       "<Figure size 1080x144 with 4 Axes>"
      ]
     },
     "metadata": {
      "image/png": {
       "height": 135,
       "width": 1064
      },
      "needs_background": "light"
     },
     "output_type": "display_data"
    },
    {
     "data": {
      "image/png": "[encoded data removed]",
      "text/plain": [
       "<Figure size 1080x144 with 4 Axes>"
      ]
     },
     "metadata": {
      "image/png": {
       "height": 135,
       "width": 1064
      },
      "needs_background": "light"
     },
     "output_type": "display_data"
    },
    {
     "data": {
      "image/png": "[encoded data removed]",
      "text/plain": [
       "<Figure size 1080x144 with 4 Axes>"
      ]
     },
     "metadata": {
      "image/png": {
       "height": 135,
       "width": 1064
      },
      "needs_background": "light"
     },
     "output_type": "display_data"
    },
    {
     "data": {
      "image/png": "[encoded data removed]",
      "text/plain": [
       "<Figure size 1080x144 with 4 Axes>"
      ]
     },
     "metadata": {
      "image/png": {
       "height": 135,
       "width": 1064
      },
      "needs_background": "light"
     },
     "output_type": "display_data"
    }
   ],
   "source": [
    "# Plot coefficients\n",
    "\n",
    "def plot_coefficients(model, index, ccds=[1,2,3,4]):\n",
    "    \n",
    "    if index == -1:\n",
    "        ylabel = 'scatter'\n",
    "    else:\n",
    "        ylabel = model.vectorizer.get_human_readable_label_term(index,\n",
    "                    label_names = model.vectorizer.label_names, mul='\\cdot', pow='^')\n",
    "        \n",
    "    f, gs = plt.subplots(1,len(ccds),figsize=(15,2),sharey=True)\n",
    "    \n",
    "    for ccd in ccds:\n",
    "        ax = gs[ccd-1]\n",
    "        \n",
    "        in_wavelength_range = (wavelength_array >= (3+ccd)*100) & (wavelength_array <= (4+ccd)*100)\n",
    "        \n",
    "        if index == -1:\n",
    "            ax.plot(\n",
    "                wavelength_array[in_wavelength_range],\n",
    "                model.s2[in_wavelength_range]**0.5,\n",
    "                lw=0.5,c='C0'\n",
    "            )\n",
    "        else:\n",
    "            ax.plot(\n",
    "                wavelength_array[in_wavelength_range],\n",
    "                model.theta[in_wavelength_range,index],\n",
    "                lw=0.5,c='C0',label='TheCannon'\n",
    "            )\n",
    "        ax.set_xlabel('Wavelength CCD'+str(ccd))\n",
    "        \n",
    "        if ccd==1:\n",
    "            ax.set_ylabel(ylabel)\n",
    "    plt.tight_layout()\n",
    "    plt.savefig('coefficient_plots/coeff_'+model_file+'_'+ylabel+'.png',dpi=300,bbox_inches='tight')\n",
    "    plt.show()\n",
    "    plt.close()\n",
    "    \n",
    "for index in range(-1,len(labels)+1):\n",
    "    plot_coefficients(model, index, ccds=[1,2,3,4])"
   ]
  },
  {
   "cell_type": "code",
   "execution_count": 12,
   "id": "b6d935eb-49ce-477e-99d7-50a21981798e",
   "metadata": {},
   "outputs": [
    {
     "data": {
      "image/png": "[encoded data removed]",
      "text/plain": [
       "<Figure size 201.6x612 with 3 Axes>"
      ]
     },
     "metadata": {
      "image/png": {
       "height": 579,
       "width": 190
      },
      "needs_background": "light"
     },
     "output_type": "display_data"
    }
   ],
   "source": [
    "fig_comparison = tc.plot.one_to_one(model, test_labels)"
   ]
  },
  {
   "cell_type": "code",
   "execution_count": 24,
   "id": "0ff0fb03-7a02-4e61-8706-022a5bd4ad26",
   "metadata": {},
   "outputs": [
    {
     "data": {
      "text/plain": [
       "[<matplotlib.lines.Line2D at 0x1d6628501c0>,\n",
       " <matplotlib.lines.Line2D at 0x1d662850550>,\n",
       " <matplotlib.lines.Line2D at 0x1d662850130>,\n",
       " <matplotlib.lines.Line2D at 0x1d662850c40>,\n",
       " <matplotlib.lines.Line2D at 0x1d6628504f0>,\n",
       " <matplotlib.lines.Line2D at 0x1d662850ac0>,\n",
       " <matplotlib.lines.Line2D at 0x1d662850220>,\n",
       " <matplotlib.lines.Line2D at 0x1d6628501f0>,\n",
       " <matplotlib.lines.Line2D at 0x1d662d6bcd0>,\n",
       " <matplotlib.lines.Line2D at 0x1d662d6b970>]"
      ]
     },
     "execution_count": 24,
     "metadata": {},
     "output_type": "execute_result"
    },
    {
     "data": {
      "image/png": "[encoded data removed]",
      "text/plain": [
       "<Figure size 432x288 with 1 Axes>"
      ]
     },
     "metadata": {
      "image/png": {
       "height": 248,
       "width": 386
      },
      "needs_background": "light"
     },
     "output_type": "display_data"
    }
   ],
   "source": []
  },
  {
   "cell_type": "code",
   "execution_count": null,
   "id": "258553b3-901f-4c27-bfb6-ab9b6b365545",
   "metadata": {},
   "outputs": [],
   "source": []
  }
 ],
 "metadata": {
  "kernelspec": {
   "display_name": "Python 3 (ipykernel)",
   "language": "python",
   "name": "python3"
  },
  "language_info": {
   "codemirror_mode": {
    "name": "ipython",
    "version": 3
   },
   "file_extension": ".py",
   "mimetype": "text/x-python",
   "name": "python",
   "nbconvert_exporter": "python",
   "pygments_lexer": "ipython3",
   "version": "3.9.7"
  }
 },
 "nbformat": 4,
 "nbformat_minor": 5
}
